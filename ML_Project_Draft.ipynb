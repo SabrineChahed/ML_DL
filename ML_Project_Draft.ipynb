{
  "cells": [
    {
      "cell_type": "markdown",
      "metadata": {
        "id": "KjMYg75B4FF6"
      },
      "source": [
        "#**Project Statement**\n",
        "##***Project Scope and Aim***\n",
        "\n",
        "\n",
        "The current project aims to investigating pertinent  features that affects Maternal Health Risk.\n",
        "\n",
        "\n",
        "The dataset used consists of 6 features and 1013 records.\n",
        "\n",
        "\n",
        "##***The medical variables used:*** (taken during pregnancy)\n",
        "\n",
        "- **Age**\n",
        "- **SystolicBP:** Upper value of Blood Pressure in mmHg.\n",
        "- **DiastolicBP:** Lower value of Blood Pressure in mmHg.\n",
        "- **Blood Sugar (BS)**\n",
        "- **BodyTemp:**\n",
        "- **HeartRate**\n",
        "\n",
        "\n"
      ]
    },
    {
      "cell_type": "markdown",
      "metadata": {
        "id": "6b9BL8LYI93V"
      },
      "source": [
        "#**Project Approach**\n",
        "\n",
        "\n",
        "We aim to predict how likely is a patient to undergo a Maternal health risk based on the previously seen features.\n",
        "\n",
        "\n",
        "\n",
        "\n",
        "#***1- A first look at Maternal Health Risk Dataset***\n",
        "\n",
        "1.   ***Data Understanding***\n",
        "2.   ***Data Preprocessing***\n",
        "\n",
        "    * Handling Missing Values\n",
        "    * Handling Duplicates\n",
        "    * Hot Encoding\n",
        "    * Dataset Balancing\n",
        "\n",
        "\n",
        "#***2-  Candidate Models Implementation***\n",
        "\n",
        "1.    ***Decision Tree Learning and Random Forest***\n",
        "2.    ***KNN***\n",
        "3.    ***Naïve Bayes***\n",
        "4.   ***SVM***\n",
        "5.   ***Artificial Neural Networks***\n",
        "\n",
        "\n",
        "\n",
        "\n",
        "#***3- Models Diagnosis***\n",
        "\n",
        "- Comparative Analysis\n",
        "\n",
        "#***4- Deployment***\n",
        "\n",
        "#***5- Conclusions***\n",
        "\n",
        "\n",
        "\n",
        "\n",
        "Dataset reference:\n",
        "https://archive.ics.uci.edu/dataset/863/maternal+health+risk\n"
      ]
    },
    {
      "cell_type": "markdown",
      "metadata": {
        "id": "vVEMA8o_6T6a"
      },
      "source": [
        "#**1- A first look at Maternal Health Risks Dataset**"
      ]
    },
    {
      "cell_type": "code",
      "source": [
        "from google.colab import drive\n",
        "drive.mount('/content/drive')"
      ],
      "metadata": {
        "id": "OyfpehqildYl",
        "colab": {
          "base_uri": "https://localhost:8080/"
        },
        "outputId": "66f87edf-2e21-486e-b3ce-630fcc3fb92f"
      },
      "execution_count": null,
      "outputs": [
        {
          "output_type": "stream",
          "name": "stdout",
          "text": [
            "Drive already mounted at /content/drive; to attempt to forcibly remount, call drive.mount(\"/content/drive\", force_remount=True).\n"
          ]
        }
      ]
    },
    {
      "cell_type": "markdown",
      "metadata": {
        "id": "DME1G43_6iXa"
      },
      "source": [
        "## Library Imports\n",
        "This cell imports various libraries necessary for data handling, model building, and data visualization."
      ]
    },
    {
      "cell_type": "code",
      "execution_count": null,
      "metadata": {
        "id": "-dueTnVqdrF6"
      },
      "outputs": [],
      "source": [
        "\n",
        "import pandas as pd\n",
        "import numpy as np\n",
        "import seaborn as sns\n",
        "from sklearn.preprocessing import LabelEncoder\n",
        "import plotly.express as px\n",
        "import matplotlib.pyplot as plt\n",
        "from sklearn.tree import DecisionTreeClassifier\n",
        "from sklearn.model_selection import train_test_split\n",
        "from sklearn import metrics\n",
        "from sklearn.preprocessing import LabelEncoder, OneHotEncoder\n",
        "from sklearn.utils import resample\n",
        "from sklearn.ensemble import RandomForestClassifier\n",
        "from sklearn.naive_bayes import GaussianNB\n",
        "from sklearn.model_selection import GridSearchCV\n",
        "from sklearn.metrics import accuracy_score\n",
        "from sklearn.metrics import classification_report\n",
        "from sklearn.metrics import confusion_matrix\n",
        "from collections import Counter\n",
        "\n",
        "from sklearn.preprocessing import StandardScaler\n",
        "from tensorflow.keras.layers import Dense # used to build our model\n",
        "from tensorflow.keras.models import Sequential\n",
        "from tensorflow.keras.utils import to_categorical\n",
        "from tensorflow.keras.optimizers import SGD\n",
        "from tensorflow.keras.callbacks import EarlyStopping\n"
      ]
    },
    {
      "cell_type": "markdown",
      "metadata": {
        "id": "nDXjTMxc608K"
      },
      "source": [
        "#**1.1 Data Understanding**"
      ]
    },
    {
      "cell_type": "code",
      "execution_count": null,
      "metadata": {
        "id": "13OufE6GY2dp"
      },
      "outputs": [],
      "source": [
        "original_data = pd.read_csv('Maternal Health Risk Data Set.csv', sep=',', header=0)"
      ]
    },
    {
      "cell_type": "code",
      "execution_count": null,
      "metadata": {
        "id": "houqy6MTepSa",
        "colab": {
          "base_uri": "https://localhost:8080/"
        },
        "outputId": "e44772b0-4d8b-4cde-fa8c-167380de4f99"
      },
      "outputs": [
        {
          "output_type": "execute_result",
          "data": {
            "text/plain": [
              "(1014, 7)"
            ]
          },
          "metadata": {},
          "execution_count": 9
        }
      ],
      "source": [
        "original_data.shape"
      ]
    },
    {
      "cell_type": "code",
      "execution_count": null,
      "metadata": {
        "id": "UrhqVj2beq7P",
        "colab": {
          "base_uri": "https://localhost:8080/",
          "height": 206
        },
        "outputId": "a89b63ae-b6bd-4458-c0c2-a6da4ad2f61b"
      },
      "outputs": [
        {
          "output_type": "execute_result",
          "data": {
            "text/plain": [
              "   Age  SystolicBP  DiastolicBP    BS  BodyTemp  HeartRate  RiskLevel\n",
              "0   25         130           80  15.0      98.0         86  high risk\n",
              "1   35         140           90  13.0      98.0         70  high risk\n",
              "2   29          90           70   8.0     100.0         80  high risk\n",
              "3   30         140           85   7.0      98.0         70  high risk\n",
              "4   35         120           60   6.1      98.0         76   low risk"
            ],
            "text/html": [
              "\n",
              "  <div id=\"df-055de1f1-fa2c-4662-8e5b-f7b0be3c10e7\" class=\"colab-df-container\">\n",
              "    <div>\n",
              "<style scoped>\n",
              "    .dataframe tbody tr th:only-of-type {\n",
              "        vertical-align: middle;\n",
              "    }\n",
              "\n",
              "    .dataframe tbody tr th {\n",
              "        vertical-align: top;\n",
              "    }\n",
              "\n",
              "    .dataframe thead th {\n",
              "        text-align: right;\n",
              "    }\n",
              "</style>\n",
              "<table border=\"1\" class=\"dataframe\">\n",
              "  <thead>\n",
              "    <tr style=\"text-align: right;\">\n",
              "      <th></th>\n",
              "      <th>Age</th>\n",
              "      <th>SystolicBP</th>\n",
              "      <th>DiastolicBP</th>\n",
              "      <th>BS</th>\n",
              "      <th>BodyTemp</th>\n",
              "      <th>HeartRate</th>\n",
              "      <th>RiskLevel</th>\n",
              "    </tr>\n",
              "  </thead>\n",
              "  <tbody>\n",
              "    <tr>\n",
              "      <th>0</th>\n",
              "      <td>25</td>\n",
              "      <td>130</td>\n",
              "      <td>80</td>\n",
              "      <td>15.0</td>\n",
              "      <td>98.0</td>\n",
              "      <td>86</td>\n",
              "      <td>high risk</td>\n",
              "    </tr>\n",
              "    <tr>\n",
              "      <th>1</th>\n",
              "      <td>35</td>\n",
              "      <td>140</td>\n",
              "      <td>90</td>\n",
              "      <td>13.0</td>\n",
              "      <td>98.0</td>\n",
              "      <td>70</td>\n",
              "      <td>high risk</td>\n",
              "    </tr>\n",
              "    <tr>\n",
              "      <th>2</th>\n",
              "      <td>29</td>\n",
              "      <td>90</td>\n",
              "      <td>70</td>\n",
              "      <td>8.0</td>\n",
              "      <td>100.0</td>\n",
              "      <td>80</td>\n",
              "      <td>high risk</td>\n",
              "    </tr>\n",
              "    <tr>\n",
              "      <th>3</th>\n",
              "      <td>30</td>\n",
              "      <td>140</td>\n",
              "      <td>85</td>\n",
              "      <td>7.0</td>\n",
              "      <td>98.0</td>\n",
              "      <td>70</td>\n",
              "      <td>high risk</td>\n",
              "    </tr>\n",
              "    <tr>\n",
              "      <th>4</th>\n",
              "      <td>35</td>\n",
              "      <td>120</td>\n",
              "      <td>60</td>\n",
              "      <td>6.1</td>\n",
              "      <td>98.0</td>\n",
              "      <td>76</td>\n",
              "      <td>low risk</td>\n",
              "    </tr>\n",
              "  </tbody>\n",
              "</table>\n",
              "</div>\n",
              "    <div class=\"colab-df-buttons\">\n",
              "\n",
              "  <div class=\"colab-df-container\">\n",
              "    <button class=\"colab-df-convert\" onclick=\"convertToInteractive('df-055de1f1-fa2c-4662-8e5b-f7b0be3c10e7')\"\n",
              "            title=\"Convert this dataframe to an interactive table.\"\n",
              "            style=\"display:none;\">\n",
              "\n",
              "  <svg xmlns=\"http://www.w3.org/2000/svg\" height=\"24px\" viewBox=\"0 -960 960 960\">\n",
              "    <path d=\"M120-120v-720h720v720H120Zm60-500h600v-160H180v160Zm220 220h160v-160H400v160Zm0 220h160v-160H400v160ZM180-400h160v-160H180v160Zm440 0h160v-160H620v160ZM180-180h160v-160H180v160Zm440 0h160v-160H620v160Z\"/>\n",
              "  </svg>\n",
              "    </button>\n",
              "\n",
              "  <style>\n",
              "    .colab-df-container {\n",
              "      display:flex;\n",
              "      gap: 12px;\n",
              "    }\n",
              "\n",
              "    .colab-df-convert {\n",
              "      background-color: #E8F0FE;\n",
              "      border: none;\n",
              "      border-radius: 50%;\n",
              "      cursor: pointer;\n",
              "      display: none;\n",
              "      fill: #1967D2;\n",
              "      height: 32px;\n",
              "      padding: 0 0 0 0;\n",
              "      width: 32px;\n",
              "    }\n",
              "\n",
              "    .colab-df-convert:hover {\n",
              "      background-color: #E2EBFA;\n",
              "      box-shadow: 0px 1px 2px rgba(60, 64, 67, 0.3), 0px 1px 3px 1px rgba(60, 64, 67, 0.15);\n",
              "      fill: #174EA6;\n",
              "    }\n",
              "\n",
              "    .colab-df-buttons div {\n",
              "      margin-bottom: 4px;\n",
              "    }\n",
              "\n",
              "    [theme=dark] .colab-df-convert {\n",
              "      background-color: #3B4455;\n",
              "      fill: #D2E3FC;\n",
              "    }\n",
              "\n",
              "    [theme=dark] .colab-df-convert:hover {\n",
              "      background-color: #434B5C;\n",
              "      box-shadow: 0px 1px 3px 1px rgba(0, 0, 0, 0.15);\n",
              "      filter: drop-shadow(0px 1px 2px rgba(0, 0, 0, 0.3));\n",
              "      fill: #FFFFFF;\n",
              "    }\n",
              "  </style>\n",
              "\n",
              "    <script>\n",
              "      const buttonEl =\n",
              "        document.querySelector('#df-055de1f1-fa2c-4662-8e5b-f7b0be3c10e7 button.colab-df-convert');\n",
              "      buttonEl.style.display =\n",
              "        google.colab.kernel.accessAllowed ? 'block' : 'none';\n",
              "\n",
              "      async function convertToInteractive(key) {\n",
              "        const element = document.querySelector('#df-055de1f1-fa2c-4662-8e5b-f7b0be3c10e7');\n",
              "        const dataTable =\n",
              "          await google.colab.kernel.invokeFunction('convertToInteractive',\n",
              "                                                    [key], {});\n",
              "        if (!dataTable) return;\n",
              "\n",
              "        const docLinkHtml = 'Like what you see? Visit the ' +\n",
              "          '<a target=\"_blank\" href=https://colab.research.google.com/notebooks/data_table.ipynb>data table notebook</a>'\n",
              "          + ' to learn more about interactive tables.';\n",
              "        element.innerHTML = '';\n",
              "        dataTable['output_type'] = 'display_data';\n",
              "        await google.colab.output.renderOutput(dataTable, element);\n",
              "        const docLink = document.createElement('div');\n",
              "        docLink.innerHTML = docLinkHtml;\n",
              "        element.appendChild(docLink);\n",
              "      }\n",
              "    </script>\n",
              "  </div>\n",
              "\n",
              "\n",
              "<div id=\"df-98717dc2-fd37-4286-bbac-ab1a603ff257\">\n",
              "  <button class=\"colab-df-quickchart\" onclick=\"quickchart('df-98717dc2-fd37-4286-bbac-ab1a603ff257')\"\n",
              "            title=\"Suggest charts\"\n",
              "            style=\"display:none;\">\n",
              "\n",
              "<svg xmlns=\"http://www.w3.org/2000/svg\" height=\"24px\"viewBox=\"0 0 24 24\"\n",
              "     width=\"24px\">\n",
              "    <g>\n",
              "        <path d=\"M19 3H5c-1.1 0-2 .9-2 2v14c0 1.1.9 2 2 2h14c1.1 0 2-.9 2-2V5c0-1.1-.9-2-2-2zM9 17H7v-7h2v7zm4 0h-2V7h2v10zm4 0h-2v-4h2v4z\"/>\n",
              "    </g>\n",
              "</svg>\n",
              "  </button>\n",
              "\n",
              "<style>\n",
              "  .colab-df-quickchart {\n",
              "      --bg-color: #E8F0FE;\n",
              "      --fill-color: #1967D2;\n",
              "      --hover-bg-color: #E2EBFA;\n",
              "      --hover-fill-color: #174EA6;\n",
              "      --disabled-fill-color: #AAA;\n",
              "      --disabled-bg-color: #DDD;\n",
              "  }\n",
              "\n",
              "  [theme=dark] .colab-df-quickchart {\n",
              "      --bg-color: #3B4455;\n",
              "      --fill-color: #D2E3FC;\n",
              "      --hover-bg-color: #434B5C;\n",
              "      --hover-fill-color: #FFFFFF;\n",
              "      --disabled-bg-color: #3B4455;\n",
              "      --disabled-fill-color: #666;\n",
              "  }\n",
              "\n",
              "  .colab-df-quickchart {\n",
              "    background-color: var(--bg-color);\n",
              "    border: none;\n",
              "    border-radius: 50%;\n",
              "    cursor: pointer;\n",
              "    display: none;\n",
              "    fill: var(--fill-color);\n",
              "    height: 32px;\n",
              "    padding: 0;\n",
              "    width: 32px;\n",
              "  }\n",
              "\n",
              "  .colab-df-quickchart:hover {\n",
              "    background-color: var(--hover-bg-color);\n",
              "    box-shadow: 0 1px 2px rgba(60, 64, 67, 0.3), 0 1px 3px 1px rgba(60, 64, 67, 0.15);\n",
              "    fill: var(--button-hover-fill-color);\n",
              "  }\n",
              "\n",
              "  .colab-df-quickchart-complete:disabled,\n",
              "  .colab-df-quickchart-complete:disabled:hover {\n",
              "    background-color: var(--disabled-bg-color);\n",
              "    fill: var(--disabled-fill-color);\n",
              "    box-shadow: none;\n",
              "  }\n",
              "\n",
              "  .colab-df-spinner {\n",
              "    border: 2px solid var(--fill-color);\n",
              "    border-color: transparent;\n",
              "    border-bottom-color: var(--fill-color);\n",
              "    animation:\n",
              "      spin 1s steps(1) infinite;\n",
              "  }\n",
              "\n",
              "  @keyframes spin {\n",
              "    0% {\n",
              "      border-color: transparent;\n",
              "      border-bottom-color: var(--fill-color);\n",
              "      border-left-color: var(--fill-color);\n",
              "    }\n",
              "    20% {\n",
              "      border-color: transparent;\n",
              "      border-left-color: var(--fill-color);\n",
              "      border-top-color: var(--fill-color);\n",
              "    }\n",
              "    30% {\n",
              "      border-color: transparent;\n",
              "      border-left-color: var(--fill-color);\n",
              "      border-top-color: var(--fill-color);\n",
              "      border-right-color: var(--fill-color);\n",
              "    }\n",
              "    40% {\n",
              "      border-color: transparent;\n",
              "      border-right-color: var(--fill-color);\n",
              "      border-top-color: var(--fill-color);\n",
              "    }\n",
              "    60% {\n",
              "      border-color: transparent;\n",
              "      border-right-color: var(--fill-color);\n",
              "    }\n",
              "    80% {\n",
              "      border-color: transparent;\n",
              "      border-right-color: var(--fill-color);\n",
              "      border-bottom-color: var(--fill-color);\n",
              "    }\n",
              "    90% {\n",
              "      border-color: transparent;\n",
              "      border-bottom-color: var(--fill-color);\n",
              "    }\n",
              "  }\n",
              "</style>\n",
              "\n",
              "  <script>\n",
              "    async function quickchart(key) {\n",
              "      const quickchartButtonEl =\n",
              "        document.querySelector('#' + key + ' button');\n",
              "      quickchartButtonEl.disabled = true;  // To prevent multiple clicks.\n",
              "      quickchartButtonEl.classList.add('colab-df-spinner');\n",
              "      try {\n",
              "        const charts = await google.colab.kernel.invokeFunction(\n",
              "            'suggestCharts', [key], {});\n",
              "      } catch (error) {\n",
              "        console.error('Error during call to suggestCharts:', error);\n",
              "      }\n",
              "      quickchartButtonEl.classList.remove('colab-df-spinner');\n",
              "      quickchartButtonEl.classList.add('colab-df-quickchart-complete');\n",
              "    }\n",
              "    (() => {\n",
              "      let quickchartButtonEl =\n",
              "        document.querySelector('#df-98717dc2-fd37-4286-bbac-ab1a603ff257 button');\n",
              "      quickchartButtonEl.style.display =\n",
              "        google.colab.kernel.accessAllowed ? 'block' : 'none';\n",
              "    })();\n",
              "  </script>\n",
              "</div>\n",
              "    </div>\n",
              "  </div>\n"
            ],
            "application/vnd.google.colaboratory.intrinsic+json": {
              "type": "dataframe",
              "variable_name": "original_data",
              "summary": "{\n  \"name\": \"original_data\",\n  \"rows\": 1014,\n  \"fields\": [\n    {\n      \"column\": \"Age\",\n      \"properties\": {\n        \"dtype\": \"number\",\n        \"std\": 13,\n        \"min\": 10,\n        \"max\": 70,\n        \"num_unique_values\": 50,\n        \"samples\": [\n          40,\n          43,\n          13\n        ],\n        \"semantic_type\": \"\",\n        \"description\": \"\"\n      }\n    },\n    {\n      \"column\": \"SystolicBP\",\n      \"properties\": {\n        \"dtype\": \"number\",\n        \"std\": 18,\n        \"min\": 70,\n        \"max\": 160,\n        \"num_unique_values\": 19,\n        \"samples\": [\n          130,\n          110,\n          80\n        ],\n        \"semantic_type\": \"\",\n        \"description\": \"\"\n      }\n    },\n    {\n      \"column\": \"DiastolicBP\",\n      \"properties\": {\n        \"dtype\": \"number\",\n        \"std\": 13,\n        \"min\": 49,\n        \"max\": 100,\n        \"num_unique_values\": 16,\n        \"samples\": [\n          80,\n          90,\n          89\n        ],\n        \"semantic_type\": \"\",\n        \"description\": \"\"\n      }\n    },\n    {\n      \"column\": \"BS\",\n      \"properties\": {\n        \"dtype\": \"number\",\n        \"std\": 3.293531721151281,\n        \"min\": 6.0,\n        \"max\": 19.0,\n        \"num_unique_values\": 29,\n        \"samples\": [\n          6.5,\n          7.7,\n          7.1\n        ],\n        \"semantic_type\": \"\",\n        \"description\": \"\"\n      }\n    },\n    {\n      \"column\": \"BodyTemp\",\n      \"properties\": {\n        \"dtype\": \"number\",\n        \"std\": 1.3713843755995376,\n        \"min\": 98.0,\n        \"max\": 103.0,\n        \"num_unique_values\": 8,\n        \"samples\": [\n          100.0,\n          98.4,\n          98.0\n        ],\n        \"semantic_type\": \"\",\n        \"description\": \"\"\n      }\n    },\n    {\n      \"column\": \"HeartRate\",\n      \"properties\": {\n        \"dtype\": \"number\",\n        \"std\": 8,\n        \"min\": 7,\n        \"max\": 90,\n        \"num_unique_values\": 16,\n        \"samples\": [\n          86,\n          70,\n          77\n        ],\n        \"semantic_type\": \"\",\n        \"description\": \"\"\n      }\n    },\n    {\n      \"column\": \"RiskLevel\",\n      \"properties\": {\n        \"dtype\": \"category\",\n        \"num_unique_values\": 3,\n        \"samples\": [\n          \"high risk\",\n          \"low risk\",\n          \"mid risk\"\n        ],\n        \"semantic_type\": \"\",\n        \"description\": \"\"\n      }\n    }\n  ]\n}"
            }
          },
          "metadata": {},
          "execution_count": 10
        }
      ],
      "source": [
        "original_data.head(5)"
      ]
    },
    {
      "cell_type": "code",
      "execution_count": null,
      "metadata": {
        "id": "1y2wjUN9exYl",
        "colab": {
          "base_uri": "https://localhost:8080/"
        },
        "outputId": "cb8758ec-6449-4dd1-f301-b021b8e81ecd"
      },
      "outputs": [
        {
          "output_type": "execute_result",
          "data": {
            "text/plain": [
              "Age              int64\n",
              "SystolicBP       int64\n",
              "DiastolicBP      int64\n",
              "BS             float64\n",
              "BodyTemp       float64\n",
              "HeartRate        int64\n",
              "RiskLevel       object\n",
              "dtype: object"
            ]
          },
          "metadata": {},
          "execution_count": 11
        }
      ],
      "source": [
        "original_data.dtypes"
      ]
    },
    {
      "cell_type": "code",
      "execution_count": null,
      "metadata": {
        "id": "uBLFZpuuLsoR",
        "colab": {
          "base_uri": "https://localhost:8080/"
        },
        "outputId": "9aac4793-bef3-421a-d1a3-e1a323b148aa"
      },
      "outputs": [
        {
          "output_type": "stream",
          "name": "stdout",
          "text": [
            "Age values are:  [25 35 29 30 23 32 42 19 20 48 15 50 10 40 21 18 16 22 49 28 12 60 55 45\n",
            " 31 17 26 54 44 33 13 34 38 39 63 14 37 51 62 43 65 66 56 70 27 36 59 24\n",
            " 41 46]\n",
            "SystolicBP values are [130 140  90 120  85 110  70 100  75  95  76  80 115 135 160 129  83  99\n",
            "  78]\n",
            "DiastolicBP values are [ 80  90  70  85  60  89  75 100  50  65  95  49  63  69  76  68]\n",
            "BS values are:  [15.   13.    8.    7.    6.1   7.01 11.    6.9  18.    6.7   7.5   7.2\n",
            "  7.1   6.4   9.    6.    7.7  12.   16.    7.8   6.8   7.9  17.   19.\n",
            " 10.    6.3   6.6   6.5   7.6 ]\n",
            "BodyTemp values are [ 98.  100.  102.  101.  103.   98.4  99.   98.6]\n",
            "HeartRate values are:  [86 70 80 76 78 77 88 90 66 82 60 75 67 65 68  7]\n",
            "RiskLevel values are:  ['high risk' 'low risk' 'mid risk']\n"
          ]
        }
      ],
      "source": [
        "# what are the types of values in the field\n",
        "\n",
        "print('Age values are: ', original_data['Age'].unique())\n",
        "print('SystolicBP values are', original_data['SystolicBP'].unique())\n",
        "print('DiastolicBP values are', original_data['DiastolicBP'].unique())\n",
        "print('BS values are: ', original_data['BS'].unique())\n",
        "print('BodyTemp values are', original_data['BodyTemp'].unique())\n",
        "print('HeartRate values are: ', original_data['HeartRate'].unique())\n",
        "print('RiskLevel values are: ', original_data['RiskLevel'].unique())"
      ]
    },
    {
      "cell_type": "code",
      "execution_count": null,
      "metadata": {
        "id": "79nWdG0YMW-i",
        "colab": {
          "base_uri": "https://localhost:8080/"
        },
        "outputId": "7a21d717-f825-4a65-f104-e9ecf9a887db"
      },
      "outputs": [
        {
          "output_type": "execute_result",
          "data": {
            "text/plain": [
              "Age            0\n",
              "SystolicBP     0\n",
              "DiastolicBP    0\n",
              "BS             0\n",
              "BodyTemp       0\n",
              "HeartRate      0\n",
              "RiskLevel      0\n",
              "dtype: int64"
            ]
          },
          "metadata": {},
          "execution_count": 13
        }
      ],
      "source": [
        "#how many null values are there\n",
        "original_data.isnull().sum()"
      ]
    },
    {
      "cell_type": "code",
      "execution_count": null,
      "metadata": {
        "id": "4Q7Ov9lEMae4",
        "colab": {
          "base_uri": "https://localhost:8080/"
        },
        "outputId": "949cf50d-d860-4615-fa0c-7e1d286ce122"
      },
      "outputs": [
        {
          "output_type": "execute_result",
          "data": {
            "text/plain": [
              "RiskLevel\n",
              "low risk     406\n",
              "mid risk     336\n",
              "high risk    272\n",
              "Name: count, dtype: int64"
            ]
          },
          "metadata": {},
          "execution_count": 14
        }
      ],
      "source": [
        "# check for data balancy\n",
        "original_data['RiskLevel'].value_counts()"
      ]
    },
    {
      "cell_type": "code",
      "execution_count": null,
      "metadata": {
        "colab": {
          "base_uri": "https://localhost:8080/",
          "height": 466
        },
        "id": "t-YtopvuMg6l",
        "outputId": "18ee57f4-930b-41ea-ee0c-7ca1dfd3c151"
      },
      "outputs": [
        {
          "output_type": "execute_result",
          "data": {
            "text/plain": [
              "<Axes: xlabel='count', ylabel='RiskLevel'>"
            ]
          },
          "metadata": {},
          "execution_count": 15
        },
        {
          "output_type": "display_data",
          "data": {
            "text/plain": [
              "<Figure size 640x480 with 1 Axes>"
            ],
            "image/png": "[encoded data removed]"
          },
          "metadata": {}
        }
      ],
      "source": [
        "sns.countplot(original_data['RiskLevel'])"
      ]
    },
    {
      "cell_type": "markdown",
      "metadata": {
        "id": "AjcszbS8NGZI"
      },
      "source": [
        "#**1.2 Data Preprocessing**"
      ]
    },
    {
      "cell_type": "markdown",
      "metadata": {
        "id": "oNGvZ3yFNaqI"
      },
      "source": [
        "#**1.2.1 Handling Missing Value**"
      ]
    },
    {
      "cell_type": "code",
      "execution_count": null,
      "metadata": {
        "id": "ktWEsSh2NZMO"
      },
      "outputs": [],
      "source": [
        "original_data = original_data.fillna('none')"
      ]
    },
    {
      "cell_type": "code",
      "execution_count": null,
      "metadata": {
        "id": "JpaAw6J3NkL9",
        "colab": {
          "base_uri": "https://localhost:8080/"
        },
        "outputId": "33c8b2a8-a0f9-46c8-cf6b-3c6abb9edabd"
      },
      "outputs": [
        {
          "output_type": "execute_result",
          "data": {
            "text/plain": [
              "Age            0\n",
              "SystolicBP     0\n",
              "DiastolicBP    0\n",
              "BS             0\n",
              "BodyTemp       0\n",
              "HeartRate      0\n",
              "RiskLevel      0\n",
              "dtype: int64"
            ]
          },
          "metadata": {},
          "execution_count": 17
        }
      ],
      "source": [
        "original_data.isnull().sum()"
      ]
    },
    {
      "cell_type": "code",
      "execution_count": null,
      "metadata": {
        "id": "LKByMcMZjVXS"
      },
      "outputs": [],
      "source": [
        "# Create an instance of LabelEncoder\n",
        "encode = LabelEncoder()\n",
        "original_data[\"RiskLevel\"]=encode.fit_transform(original_data[\"RiskLevel\"])"
      ]
    },
    {
      "cell_type": "code",
      "execution_count": null,
      "metadata": {
        "id": "0bccjTAZk5je",
        "colab": {
          "base_uri": "https://localhost:8080/"
        },
        "outputId": "8a1b4021-09eb-472c-b539-04504a0d2b85"
      },
      "outputs": [
        {
          "output_type": "stream",
          "name": "stdout",
          "text": [
            "RiskLevel values are:  [0 1 2]\n"
          ]
        }
      ],
      "source": [
        "print('RiskLevel values are: ', original_data['RiskLevel'].unique())"
      ]
    },
    {
      "cell_type": "code",
      "execution_count": null,
      "metadata": {
        "id": "FOh7-boxlT46",
        "colab": {
          "base_uri": "https://localhost:8080/"
        },
        "outputId": "8016f856-2d26-4598-f3bd-f180fe9f4013"
      },
      "outputs": [
        {
          "output_type": "stream",
          "name": "stdout",
          "text": [
            "0 --> high risk\n",
            "1 --> low risk\n",
            "2 --> mid risk\n"
          ]
        }
      ],
      "source": [
        "# Use inverse_transform to get original values corresponding to the encoded values\n",
        "original_values = encode.inverse_transform([0, 1, 2])\n",
        "\n",
        "# Print the mapping of encoded values to original values\n",
        "for encoded_value, original_value in enumerate(original_values):\n",
        "    print(f\"{encoded_value} --> {original_value}\")"
      ]
    },
    {
      "cell_type": "code",
      "execution_count": null,
      "metadata": {
        "id": "6wvSjijrNt4-",
        "colab": {
          "base_uri": "https://localhost:8080/"
        },
        "outputId": "eb1fa0c0-263c-4fa3-b815-82449dc0fadf"
      },
      "outputs": [
        {
          "output_type": "execute_result",
          "data": {
            "text/plain": [
              "BS            -0.479958\n",
              "DiastolicBP   -0.284633\n",
              "Age           -0.211851\n",
              "SystolicBP    -0.208797\n",
              "HeartRate     -0.111637\n",
              "BodyTemp      -0.006680\n",
              "RiskLevel      1.000000\n",
              "Name: RiskLevel, dtype: float64"
            ]
          },
          "metadata": {},
          "execution_count": 21
        }
      ],
      "source": [
        "# Calculate the correlation between the target column 'Maternal_Risk' and all other numeric features\n",
        "original_data.corr()['RiskLevel'].sort_values()"
      ]
    },
    {
      "cell_type": "code",
      "execution_count": null,
      "metadata": {
        "id": "AgyKK06Rlgnp",
        "colab": {
          "base_uri": "https://localhost:8080/",
          "height": 836
        },
        "outputId": "05df9afd-ff20-4408-bc25-ebaed0b61c2d"
      },
      "outputs": [
        {
          "output_type": "display_data",
          "data": {
            "text/plain": [
              "<Figure size 1000x1000 with 2 Axes>"
            ],
            "image/png": "[encoded data removed]"
          },
          "metadata": {}
        }
      ],
      "source": [
        "plt.subplots(figsize=(10,10))\n",
        "sns.heatmap(original_data.corr(),annot=True)\n",
        "plt.show()"
      ]
    },
    {
      "cell_type": "markdown",
      "metadata": {
        "id": "89uvVO_lh-Xf"
      },
      "source": [
        "#**1.2.2 Handling Duplicates**"
      ]
    },
    {
      "cell_type": "code",
      "execution_count": null,
      "metadata": {
        "id": "ZrFQ_jySiMYG",
        "colab": {
          "base_uri": "https://localhost:8080/"
        },
        "outputId": "e6dd0b54-9140-4fef-f07e-79371949a445"
      },
      "outputs": [
        {
          "output_type": "stream",
          "name": "stdout",
          "text": [
            "562\n"
          ]
        }
      ],
      "source": [
        "print(original_data.duplicated().sum())"
      ]
    },
    {
      "cell_type": "code",
      "execution_count": null,
      "metadata": {
        "id": "JdgI3RuDpx9P",
        "colab": {
          "base_uri": "https://localhost:8080/"
        },
        "outputId": "facbb175-7425-4a2d-9c3f-99116d91fa99"
      },
      "outputs": [
        {
          "output_type": "stream",
          "name": "stdout",
          "text": [
            "Duplicate counts in each RiskLevel category:\n",
            "RiskLevel\n",
            "0    160\n",
            "1    172\n",
            "2    230\n",
            "dtype: int64\n"
          ]
        }
      ],
      "source": [
        "# Assuming we have a DataFrame named original_data with a column \"RiskLevel\"\n",
        "\n",
        "# Group the DataFrame by \"RiskLevel\" and count the duplicates in each group\n",
        "duplicate_counts = original_data[original_data.duplicated()].groupby(\"RiskLevel\").size()\n",
        "\n",
        "# Print the number of duplicates in each RiskLevel category\n",
        "print(\"Duplicate counts in each RiskLevel category:\")\n",
        "print(duplicate_counts)\n",
        "\n",
        "#low risk     406\n",
        "#mid risk     336\n",
        "#high risk    272\n"
      ]
    },
    {
      "cell_type": "code",
      "execution_count": null,
      "metadata": {
        "id": "TRIA8uOprpBj",
        "colab": {
          "base_uri": "https://localhost:8080/"
        },
        "outputId": "21ce7ef3-9757-4812-89dd-453f99f9cc18"
      },
      "outputs": [
        {
          "output_type": "execute_result",
          "data": {
            "text/plain": [
              "RiskLevel\n",
              "1    406\n",
              "2    336\n",
              "0    272\n",
              "Name: count, dtype: int64"
            ]
          },
          "metadata": {},
          "execution_count": 25
        }
      ],
      "source": [
        "# check for data balancy\n",
        "original_data['RiskLevel'].value_counts()"
      ]
    },
    {
      "cell_type": "code",
      "execution_count": null,
      "metadata": {
        "id": "xrn6B9MvriWz",
        "colab": {
          "base_uri": "https://localhost:8080/"
        },
        "outputId": "c2b6bd70-9dc9-4c1a-d637-eba072f8ad45"
      },
      "outputs": [
        {
          "output_type": "stream",
          "name": "stdout",
          "text": [
            "Duplicate counts in each RiskLevel category:\n",
            "RiskLevel\n",
            "0    160\n",
            "1    172\n",
            "2    230\n",
            "dtype: int64\n"
          ]
        }
      ],
      "source": [
        "# Assuming you have a DataFrame named original_data with a column \"RiskLevel\"\n",
        "\n",
        "# Group the DataFrame by \"RiskLevel\" and count the duplicates in each group\n",
        "duplicate_counts = original_data[original_data.duplicated()].groupby(\"RiskLevel\").size()\n",
        "\n",
        "# Print the number of duplicates in each RiskLevel category\n",
        "print(\"Duplicate counts in each RiskLevel category:\")\n",
        "print(duplicate_counts)"
      ]
    },
    {
      "cell_type": "code",
      "execution_count": null,
      "metadata": {
        "id": "s69DtyZXiSCd",
        "colab": {
          "base_uri": "https://localhost:8080/"
        },
        "outputId": "6c674f1b-c4d3-498d-a695-8e4578705819"
      },
      "outputs": [
        {
          "output_type": "stream",
          "name": "stdout",
          "text": [
            "(1014, 7)\n"
          ]
        }
      ],
      "source": [
        "#original_data.drop_duplicates(inplace=True)\n",
        "print(original_data.shape)"
      ]
    },
    {
      "cell_type": "markdown",
      "metadata": {
        "id": "eZazxiPiOpLJ"
      },
      "source": [
        "#**1.2.3 Balancing Dataset**"
      ]
    },
    {
      "cell_type": "code",
      "execution_count": null,
      "metadata": {
        "id": "8oxbqrT8Ol2r"
      },
      "outputs": [],
      "source": [
        "# TBD"
      ]
    },
    {
      "cell_type": "markdown",
      "metadata": {
        "id": "ZrTdtxVMOzcF"
      },
      "source": [
        "#***2- Candidate Models Implementation***"
      ]
    },
    {
      "cell_type": "markdown",
      "metadata": {
        "id": "Cs3D5AcIPNKg"
      },
      "source": [
        "## Data Splitting\n",
        "This cell splits the dataset into training and testing sets to evaluate the model's performance.\n",
        "\n",
        "\n",
        "*   Training_valdiation set 70% of data.\n",
        "*   Test set 30% of data."
      ]
    },
    {
      "cell_type": "code",
      "execution_count": null,
      "metadata": {
        "id": "x-Dlb9__Oyp-"
      },
      "outputs": [],
      "source": [
        "\n",
        "X = original_data.drop(columns=['RiskLevel'])\n",
        "y = original_data['RiskLevel']\n",
        "\n",
        "# Splitting the dataset into train and test sets with a 70-30 ratio\n",
        "X_train, X_test, y_train, y_test = train_test_split(X, y, test_size=0.3, stratify=y, random_state=42)"
      ]
    },
    {
      "cell_type": "markdown",
      "metadata": {
        "id": "ZrG4V4AuO_Tn"
      },
      "source": [
        "# ***2.1 Modeling Using Random Forest***"
      ]
    },
    {
      "cell_type": "code",
      "execution_count": null,
      "metadata": {
        "id": "Xlw21k2hPotE"
      },
      "outputs": [],
      "source": [
        "param_grid = {\n",
        "    'n_estimators': [5 ],  # the number of trees in the forest\n",
        "    'max_depth': [4],  # the maximum depth of each tree is usually 0 to avoid overfitting\n",
        "    'max_features': ['sqrt'],  # the number of features to consider at each split\n",
        "    'min_samples_split': [25],  # the minimum number of samples required to split a node\n",
        "    'min_samples_leaf': [25],  # the minimum number of samples required to be at a leaf node\n",
        "    'bootstrap': [True, False],  # whether to use bootstrap samples when building trees\n",
        "    'criterion': ['gini', 'entropy'],  # the function to measure the quality of a split\n",
        "}"
      ]
    },
    {
      "cell_type": "markdown",
      "metadata": {
        "id": "Xtnc-UN-P0tu"
      },
      "source": [
        "## Setting Up Grid Search for Decision Tree\n",
        "\n",
        "Initializes a `DecisionTreeClassifier` and configures `GridSearchCV` with:\n",
        "- The decision tree classifier (`clf`) as the estimator.\n",
        "- A parameter grid (`param_grid`) to explore.\n",
        "- 4-fold cross-validation (`cv=4`).\n",
        "- f1 score as the scoring metric.\n",
        "- Try to change the scoring metric."
      ]
    },
    {
      "cell_type": "code",
      "execution_count": null,
      "metadata": {
        "id": "qkpHyrjRP2kh"
      },
      "outputs": [],
      "source": [
        "# Create an instance of the RandomForestClassifier class\n",
        "rf = RandomForestClassifier()\n",
        "\n",
        "# Create an instance of the GridSearchCV class\n",
        "grid_search_rf = GridSearchCV(estimator= rf ,\n",
        "                              param_grid= param_grid,\n",
        "                              cv=4,\n",
        "                              scoring='f1',\n",
        "                              n_jobs=-1,\n",
        "                              verbose=2)"
      ]
    },
    {
      "cell_type": "markdown",
      "metadata": {
        "id": "bT8QmLEuQFyN"
      },
      "source": [
        "## Executing Grid Search\n",
        "\n",
        "Runs `grid_search.fit` on the training data (`X_train`, `y_train`) to find the optimal hyperparameter settings based on the defined grid."
      ]
    },
    {
      "cell_type": "code",
      "execution_count": null,
      "metadata": {
        "id": "G1p_0kXmQJPH",
        "colab": {
          "base_uri": "https://localhost:8080/",
          "height": 259
        },
        "outputId": "bd67bfdd-6b28-45a3-ae45-2aa666b5fb3b"
      },
      "outputs": [
        {
          "output_type": "stream",
          "name": "stdout",
          "text": [
            "Fitting 4 folds for each of 4 candidates, totalling 16 fits\n"
          ]
        },
        {
          "output_type": "stream",
          "name": "stderr",
          "text": [
            "/usr/local/lib/python3.10/dist-packages/joblib/externals/loky/backend/fork_exec.py:38: RuntimeWarning: os.fork() was called. os.fork() is incompatible with multithreaded code, and JAX is multithreaded, so this will likely lead to a deadlock.\n",
            "  pid = os.fork()\n",
            "/usr/local/lib/python3.10/dist-packages/joblib/externals/loky/backend/fork_exec.py:38: RuntimeWarning: os.fork() was called. os.fork() is incompatible with multithreaded code, and JAX is multithreaded, so this will likely lead to a deadlock.\n",
            "  pid = os.fork()\n",
            "/usr/local/lib/python3.10/dist-packages/sklearn/model_selection/_search.py:952: UserWarning: One or more of the test scores are non-finite: [nan nan nan nan]\n",
            "  warnings.warn(\n"
          ]
        },
        {
          "output_type": "execute_result",
          "data": {
            "text/plain": [
              "GridSearchCV(cv=4, estimator=RandomForestClassifier(), n_jobs=-1,\n",
              "             param_grid={'bootstrap': [True, False],\n",
              "                         'criterion': ['gini', 'entropy'], 'max_depth': [4],\n",
              "                         'max_features': ['sqrt'], 'min_samples_leaf': [25],\n",
              "                         'min_samples_split': [25], 'n_estimators': [5]},\n",
              "             scoring='f1', verbose=2)"
            ],
            "text/html": [
              "<style>#sk-container-id-1 {color: black;background-color: white;}#sk-container-id-1 pre{padding: 0;}#sk-container-id-1 div.sk-toggleable {background-color: white;}#sk-container-id-1 label.sk-toggleable__label {cursor: pointer;display: block;width: 100%;margin-bottom: 0;padding: 0.3em;box-sizing: border-box;text-align: center;}#sk-container-id-1 label.sk-toggleable__label-arrow:before {content: \"▸\";float: left;margin-right: 0.25em;color: #696969;}#sk-container-id-1 label.sk-toggleable__label-arrow:hover:before {color: black;}#sk-container-id-1 div.sk-estimator:hover label.sk-toggleable__label-arrow:before {color: black;}#sk-container-id-1 div.sk-toggleable__content {max-height: 0;max-width: 0;overflow: hidden;text-align: left;background-color: #f0f8ff;}#sk-container-id-1 div.sk-toggleable__content pre {margin: 0.2em;color: black;border-radius: 0.25em;background-color: #f0f8ff;}#sk-container-id-1 input.sk-toggleable__control:checked~div.sk-toggleable__content {max-height: 200px;max-width: 100%;overflow: auto;}#sk-container-id-1 input.sk-toggleable__control:checked~label.sk-toggleable__label-arrow:before {content: \"▾\";}#sk-container-id-1 div.sk-estimator input.sk-toggleable__control:checked~label.sk-toggleable__label {background-color: #d4ebff;}#sk-container-id-1 div.sk-label input.sk-toggleable__control:checked~label.sk-toggleable__label {background-color: #d4ebff;}#sk-container-id-1 input.sk-hidden--visually {border: 0;clip: rect(1px 1px 1px 1px);clip: rect(1px, 1px, 1px, 1px);height: 1px;margin: -1px;overflow: hidden;padding: 0;position: absolute;width: 1px;}#sk-container-id-1 div.sk-estimator {font-family: monospace;background-color: #f0f8ff;border: 1px dotted black;border-radius: 0.25em;box-sizing: border-box;margin-bottom: 0.5em;}#sk-container-id-1 div.sk-estimator:hover {background-color: #d4ebff;}#sk-container-id-1 div.sk-parallel-item::after {content: \"\";width: 100%;border-bottom: 1px solid gray;flex-grow: 1;}#sk-container-id-1 div.sk-label:hover label.sk-toggleable__label {background-color: #d4ebff;}#sk-container-id-1 div.sk-serial::before {content: \"\";position: absolute;border-left: 1px solid gray;box-sizing: border-box;top: 0;bottom: 0;left: 50%;z-index: 0;}#sk-container-id-1 div.sk-serial {display: flex;flex-direction: column;align-items: center;background-color: white;padding-right: 0.2em;padding-left: 0.2em;position: relative;}#sk-container-id-1 div.sk-item {position: relative;z-index: 1;}#sk-container-id-1 div.sk-parallel {display: flex;align-items: stretch;justify-content: center;background-color: white;position: relative;}#sk-container-id-1 div.sk-item::before, #sk-container-id-1 div.sk-parallel-item::before {content: \"\";position: absolute;border-left: 1px solid gray;box-sizing: border-box;top: 0;bottom: 0;left: 50%;z-index: -1;}#sk-container-id-1 div.sk-parallel-item {display: flex;flex-direction: column;z-index: 1;position: relative;background-color: white;}#sk-container-id-1 div.sk-parallel-item:first-child::after {align-self: flex-end;width: 50%;}#sk-container-id-1 div.sk-parallel-item:last-child::after {align-self: flex-start;width: 50%;}#sk-container-id-1 div.sk-parallel-item:only-child::after {width: 0;}#sk-container-id-1 div.sk-dashed-wrapped {border: 1px dashed gray;margin: 0 0.4em 0.5em 0.4em;box-sizing: border-box;padding-bottom: 0.4em;background-color: white;}#sk-container-id-1 div.sk-label label {font-family: monospace;font-weight: bold;display: inline-block;line-height: 1.2em;}#sk-container-id-1 div.sk-label-container {text-align: center;}#sk-container-id-1 div.sk-container {/* jupyter's `normalize.less` sets `[hidden] { display: none; }` but bootstrap.min.css set `[hidden] { display: none !important; }` so we also need the `!important` here to be able to override the default hidden behavior on the sphinx rendered scikit-learn.org. See: https://github.com/scikit-learn/scikit-learn/issues/21755 */display: inline-block !important;position: relative;}#sk-container-id-1 div.sk-text-repr-fallback {display: none;}</style><div id=\"sk-container-id-1\" class=\"sk-top-container\"><div class=\"sk-text-repr-fallback\"><pre>GridSearchCV(cv=4, estimator=RandomForestClassifier(), n_jobs=-1,\n",
              "             param_grid={&#x27;bootstrap&#x27;: [True, False],\n",
              "                         &#x27;criterion&#x27;: [&#x27;gini&#x27;, &#x27;entropy&#x27;], &#x27;max_depth&#x27;: [4],\n",
              "                         &#x27;max_features&#x27;: [&#x27;sqrt&#x27;], &#x27;min_samples_leaf&#x27;: [25],\n",
              "                         &#x27;min_samples_split&#x27;: [25], &#x27;n_estimators&#x27;: [5]},\n",
              "             scoring=&#x27;f1&#x27;, verbose=2)</pre><b>In a Jupyter environment, please rerun this cell to show the HTML representation or trust the notebook. <br />On GitHub, the HTML representation is unable to render, please try loading this page with nbviewer.org.</b></div><div class=\"sk-container\" hidden><div class=\"sk-item sk-dashed-wrapped\"><div class=\"sk-label-container\"><div class=\"sk-label sk-toggleable\"><input class=\"sk-toggleable__control sk-hidden--visually\" id=\"sk-estimator-id-1\" type=\"checkbox\" ><label for=\"sk-estimator-id-1\" class=\"sk-toggleable__label sk-toggleable__label-arrow\">GridSearchCV</label><div class=\"sk-toggleable__content\"><pre>GridSearchCV(cv=4, estimator=RandomForestClassifier(), n_jobs=-1,\n",
              "             param_grid={&#x27;bootstrap&#x27;: [True, False],\n",
              "                         &#x27;criterion&#x27;: [&#x27;gini&#x27;, &#x27;entropy&#x27;], &#x27;max_depth&#x27;: [4],\n",
              "                         &#x27;max_features&#x27;: [&#x27;sqrt&#x27;], &#x27;min_samples_leaf&#x27;: [25],\n",
              "                         &#x27;min_samples_split&#x27;: [25], &#x27;n_estimators&#x27;: [5]},\n",
              "             scoring=&#x27;f1&#x27;, verbose=2)</pre></div></div></div><div class=\"sk-parallel\"><div class=\"sk-parallel-item\"><div class=\"sk-item\"><div class=\"sk-label-container\"><div class=\"sk-label sk-toggleable\"><input class=\"sk-toggleable__control sk-hidden--visually\" id=\"sk-estimator-id-2\" type=\"checkbox\" ><label for=\"sk-estimator-id-2\" class=\"sk-toggleable__label sk-toggleable__label-arrow\">estimator: RandomForestClassifier</label><div class=\"sk-toggleable__content\"><pre>RandomForestClassifier()</pre></div></div></div><div class=\"sk-serial\"><div class=\"sk-item\"><div class=\"sk-estimator sk-toggleable\"><input class=\"sk-toggleable__control sk-hidden--visually\" id=\"sk-estimator-id-3\" type=\"checkbox\" ><label for=\"sk-estimator-id-3\" class=\"sk-toggleable__label sk-toggleable__label-arrow\">RandomForestClassifier</label><div class=\"sk-toggleable__content\"><pre>RandomForestClassifier()</pre></div></div></div></div></div></div></div></div></div></div>"
            ]
          },
          "metadata": {},
          "execution_count": 32
        }
      ],
      "source": [
        "# Fit the grid search object to the data\n",
        "grid_search_rf.fit(X_train, y_train)"
      ]
    },
    {
      "cell_type": "markdown",
      "metadata": {
        "id": "itt6GvMHQMuY"
      },
      "source": [
        "## Retrieving Best Model Parameters from Grid Search\n",
        "\n",
        "- Extracts `best_params` from `grid_search`, revealing the optimal hyperparameter settings.\n",
        "- Assigns `best_model` as the best estimator found by grid search.\n",
        "- Prints `best_params` to display the selected hyperparameters for the best model."
      ]
    },
    {
      "cell_type": "code",
      "execution_count": null,
      "metadata": {
        "id": "MqUBCRjsQN3a",
        "colab": {
          "base_uri": "https://localhost:8080/"
        },
        "outputId": "432b9f18-758e-4635-b34a-ad6760ec4753"
      },
      "outputs": [
        {
          "output_type": "stream",
          "name": "stdout",
          "text": [
            "Best RF parameters: {'bootstrap': True, 'criterion': 'gini', 'max_depth': 4, 'max_features': 'sqrt', 'min_samples_leaf': 25, 'min_samples_split': 25, 'n_estimators': 5}\n"
          ]
        }
      ],
      "source": [
        "# Best RF parameters:\n",
        "best_model_rf = grid_search_rf.best_estimator_\n",
        "\n",
        "best_params_rf = grid_search_rf.best_params_\n",
        "print(\"Best RF parameters:\", best_params_rf)"
      ]
    },
    {
      "cell_type": "code",
      "execution_count": null,
      "metadata": {
        "id": "qgj3elHCQUnx"
      },
      "outputs": [],
      "source": [
        "# Predict on test set\n",
        "y_pred = grid_search_rf.best_estimator_.predict(X_test)"
      ]
    },
    {
      "cell_type": "code",
      "execution_count": null,
      "metadata": {
        "id": "LmmJiZxQQXol"
      },
      "outputs": [],
      "source": [
        "# Concatenate X_train and y_train\n",
        "train_data = pd.concat([X_train, y_train], axis=1)\n",
        "\n",
        "# Concatenate X_test and y_test\n",
        "test_data = pd.concat([X_test, y_test], axis=1)"
      ]
    },
    {
      "cell_type": "code",
      "execution_count": null,
      "metadata": {
        "id": "cyCuP2lTQaQL",
        "colab": {
          "base_uri": "https://localhost:8080/"
        },
        "outputId": "f482e9df-72a1-4509-be1a-5822f6851ad4"
      },
      "outputs": [
        {
          "output_type": "stream",
          "name": "stdout",
          "text": [
            "Accuracy: 0.6950819672131148\n",
            "\n",
            "Confusion matrix: \n",
            " [[71  6  5]\n",
            " [ 5 96 21]\n",
            " [15 41 45]]\n",
            "\n",
            " Classification report: \n",
            "               precision    recall  f1-score   support\n",
            "\n",
            "           0       0.78      0.87      0.82        82\n",
            "           1       0.67      0.79      0.72       122\n",
            "           2       0.63      0.45      0.52       101\n",
            "\n",
            "    accuracy                           0.70       305\n",
            "   macro avg       0.70      0.70      0.69       305\n",
            "weighted avg       0.69      0.70      0.68       305\n",
            "\n"
          ]
        }
      ],
      "source": [
        "accuracy = accuracy_score(y_test, y_pred)\n",
        "print(\"Accuracy:\", accuracy)\n",
        "\n",
        "\n",
        "# Generate a confusion matrix\n",
        "cm = confusion_matrix(y_test, y_pred)\n",
        "print(\"\\nConfusion matrix: \\n\", cm)\n",
        "\n",
        "# Generate a classification report\n",
        "cr = classification_report(y_test, y_pred)\n",
        "print(\"\\n Classification report: \\n\", cr)"
      ]
    },
    {
      "cell_type": "markdown",
      "metadata": {
        "id": "AY-0a__AtAZZ"
      },
      "source": [
        "# ***2.2 Modeling using Naive Bayes Algorithm***"
      ]
    },
    {
      "cell_type": "code",
      "execution_count": null,
      "metadata": {
        "colab": {
          "base_uri": "https://localhost:8080/",
          "height": 75
        },
        "id": "spQ2vJEmvg3P",
        "outputId": "e648b139-d47c-409f-e054-fe50daba4bda"
      },
      "outputs": [
        {
          "output_type": "execute_result",
          "data": {
            "text/plain": [
              "GaussianNB()"
            ],
            "text/html": [
              "<style>#sk-container-id-2 {color: black;background-color: white;}#sk-container-id-2 pre{padding: 0;}#sk-container-id-2 div.sk-toggleable {background-color: white;}#sk-container-id-2 label.sk-toggleable__label {cursor: pointer;display: block;width: 100%;margin-bottom: 0;padding: 0.3em;box-sizing: border-box;text-align: center;}#sk-container-id-2 label.sk-toggleable__label-arrow:before {content: \"▸\";float: left;margin-right: 0.25em;color: #696969;}#sk-container-id-2 label.sk-toggleable__label-arrow:hover:before {color: black;}#sk-container-id-2 div.sk-estimator:hover label.sk-toggleable__label-arrow:before {color: black;}#sk-container-id-2 div.sk-toggleable__content {max-height: 0;max-width: 0;overflow: hidden;text-align: left;background-color: #f0f8ff;}#sk-container-id-2 div.sk-toggleable__content pre {margin: 0.2em;color: black;border-radius: 0.25em;background-color: #f0f8ff;}#sk-container-id-2 input.sk-toggleable__control:checked~div.sk-toggleable__content {max-height: 200px;max-width: 100%;overflow: auto;}#sk-container-id-2 input.sk-toggleable__control:checked~label.sk-toggleable__label-arrow:before {content: \"▾\";}#sk-container-id-2 div.sk-estimator input.sk-toggleable__control:checked~label.sk-toggleable__label {background-color: #d4ebff;}#sk-container-id-2 div.sk-label input.sk-toggleable__control:checked~label.sk-toggleable__label {background-color: #d4ebff;}#sk-container-id-2 input.sk-hidden--visually {border: 0;clip: rect(1px 1px 1px 1px);clip: rect(1px, 1px, 1px, 1px);height: 1px;margin: -1px;overflow: hidden;padding: 0;position: absolute;width: 1px;}#sk-container-id-2 div.sk-estimator {font-family: monospace;background-color: #f0f8ff;border: 1px dotted black;border-radius: 0.25em;box-sizing: border-box;margin-bottom: 0.5em;}#sk-container-id-2 div.sk-estimator:hover {background-color: #d4ebff;}#sk-container-id-2 div.sk-parallel-item::after {content: \"\";width: 100%;border-bottom: 1px solid gray;flex-grow: 1;}#sk-container-id-2 div.sk-label:hover label.sk-toggleable__label {background-color: #d4ebff;}#sk-container-id-2 div.sk-serial::before {content: \"\";position: absolute;border-left: 1px solid gray;box-sizing: border-box;top: 0;bottom: 0;left: 50%;z-index: 0;}#sk-container-id-2 div.sk-serial {display: flex;flex-direction: column;align-items: center;background-color: white;padding-right: 0.2em;padding-left: 0.2em;position: relative;}#sk-container-id-2 div.sk-item {position: relative;z-index: 1;}#sk-container-id-2 div.sk-parallel {display: flex;align-items: stretch;justify-content: center;background-color: white;position: relative;}#sk-container-id-2 div.sk-item::before, #sk-container-id-2 div.sk-parallel-item::before {content: \"\";position: absolute;border-left: 1px solid gray;box-sizing: border-box;top: 0;bottom: 0;left: 50%;z-index: -1;}#sk-container-id-2 div.sk-parallel-item {display: flex;flex-direction: column;z-index: 1;position: relative;background-color: white;}#sk-container-id-2 div.sk-parallel-item:first-child::after {align-self: flex-end;width: 50%;}#sk-container-id-2 div.sk-parallel-item:last-child::after {align-self: flex-start;width: 50%;}#sk-container-id-2 div.sk-parallel-item:only-child::after {width: 0;}#sk-container-id-2 div.sk-dashed-wrapped {border: 1px dashed gray;margin: 0 0.4em 0.5em 0.4em;box-sizing: border-box;padding-bottom: 0.4em;background-color: white;}#sk-container-id-2 div.sk-label label {font-family: monospace;font-weight: bold;display: inline-block;line-height: 1.2em;}#sk-container-id-2 div.sk-label-container {text-align: center;}#sk-container-id-2 div.sk-container {/* jupyter's `normalize.less` sets `[hidden] { display: none; }` but bootstrap.min.css set `[hidden] { display: none !important; }` so we also need the `!important` here to be able to override the default hidden behavior on the sphinx rendered scikit-learn.org. See: https://github.com/scikit-learn/scikit-learn/issues/21755 */display: inline-block !important;position: relative;}#sk-container-id-2 div.sk-text-repr-fallback {display: none;}</style><div id=\"sk-container-id-2\" class=\"sk-top-container\"><div class=\"sk-text-repr-fallback\"><pre>GaussianNB()</pre><b>In a Jupyter environment, please rerun this cell to show the HTML representation or trust the notebook. <br />On GitHub, the HTML representation is unable to render, please try loading this page with nbviewer.org.</b></div><div class=\"sk-container\" hidden><div class=\"sk-item\"><div class=\"sk-estimator sk-toggleable\"><input class=\"sk-toggleable__control sk-hidden--visually\" id=\"sk-estimator-id-4\" type=\"checkbox\" checked><label for=\"sk-estimator-id-4\" class=\"sk-toggleable__label sk-toggleable__label-arrow\">GaussianNB</label><div class=\"sk-toggleable__content\"><pre>GaussianNB()</pre></div></div></div></div></div>"
            ]
          },
          "metadata": {},
          "execution_count": 37
        }
      ],
      "source": [
        "# Initialize the Gaussian Naive Bayes classifier\n",
        "gnb = GaussianNB()\n",
        "\n",
        "# Train the classifier on the training data\n",
        "gnb.fit(X_train, y_train)\n"
      ]
    },
    {
      "cell_type": "code",
      "execution_count": null,
      "metadata": {
        "id": "PVHqdEr-VA-g"
      },
      "outputs": [],
      "source": [
        "# Make predictions on the testing data\n",
        "y_pred = gnb.predict(X_test)"
      ]
    },
    {
      "cell_type": "code",
      "execution_count": null,
      "metadata": {
        "colab": {
          "base_uri": "https://localhost:8080/"
        },
        "id": "VGnlDv7HVB98",
        "outputId": "563cf3ca-3efc-4948-e7fd-e1b492929f94"
      },
      "outputs": [
        {
          "output_type": "stream",
          "name": "stdout",
          "text": [
            "Accuracy: 0.6065573770491803\n"
          ]
        }
      ],
      "source": [
        "# Evaluate the classifier's performance\n",
        "accuracy = metrics.accuracy_score(y_test, y_pred)\n",
        "print(\"Accuracy:\", accuracy)"
      ]
    },
    {
      "cell_type": "code",
      "execution_count": null,
      "metadata": {
        "id": "JUBLCxcCfdWo",
        "colab": {
          "base_uri": "https://localhost:8080/"
        },
        "outputId": "92547974-62cb-4191-e6ef-332335823477"
      },
      "outputs": [
        {
          "output_type": "stream",
          "name": "stdout",
          "text": [
            "Best Parameters: {'var_smoothing': 1e-05}\n",
            "Accuracy: 0.6098360655737705\n",
            "\n",
            "Confusion matrix: \n",
            " [[ 57   8  17]\n",
            " [  0 114   8]\n",
            " [  6  80  15]]\n",
            "\n",
            " Classification report: \n",
            "               precision    recall  f1-score   support\n",
            "\n",
            "           0       0.90      0.70      0.79        82\n",
            "           1       0.56      0.93      0.70       122\n",
            "           2       0.38      0.15      0.21       101\n",
            "\n",
            "    accuracy                           0.61       305\n",
            "   macro avg       0.61      0.59      0.57       305\n",
            "weighted avg       0.59      0.61      0.56       305\n",
            "\n"
          ]
        }
      ],
      "source": [
        "# Define the hyperparameters to tune\n",
        "param_grid = {'var_smoothing': [1e-9, 1e-8, 1e-7, 1e-6, 1e-5]}\n",
        "\n",
        "# Initialize GridSearchCV with the classifier and parameter grid\n",
        "grid_search = GridSearchCV(estimator=gnb, param_grid=param_grid, cv=5, scoring='accuracy')\n",
        "\n",
        "# Perform grid search on the training data\n",
        "grid_search.fit(X_train, y_train)\n",
        "\n",
        "# Print the best parameters found\n",
        "print(\"Best Parameters:\", grid_search.best_params_)\n",
        "\n",
        "# Get the best estimator\n",
        "best_gnb = grid_search.best_estimator_\n",
        "\n",
        "# Make predictions on the testing data using the best estimator\n",
        "y_pred = best_gnb.predict(X_test)\n",
        "\n",
        "# Evaluate the classifier's performance\n",
        "accuracy = metrics.accuracy_score(y_test, y_pred)\n",
        "print(\"Accuracy:\", accuracy)\n",
        "\n",
        "# Generate a confusion matrix\n",
        "cm = confusion_matrix(y_test, y_pred)\n",
        "print(\"\\nConfusion matrix: \\n\", cm)\n",
        "\n",
        "# Generate a classification report\n",
        "cr = classification_report(y_test, y_pred)\n",
        "print(\"\\n Classification report: \\n\", cr)\n"
      ]
    },
    {
      "cell_type": "markdown",
      "source": [
        "# ***2.3 K-nearest Neighbors***\n"
      ],
      "metadata": {
        "id": "W_YoS5CT2yL7"
      }
    },
    {
      "cell_type": "code",
      "source": [],
      "metadata": {
        "id": "3jfCUT7UKHCQ"
      },
      "execution_count": null,
      "outputs": []
    },
    {
      "cell_type": "code",
      "source": [
        "\n",
        "def euclidean_distance(x, y):\n",
        "    # Convert x and y to numerical arrays\n",
        "    x = np.array(x, dtype=float)\n",
        "    y = np.array(y, dtype=float)\n",
        "\n",
        "    # Compute Euclidean distance element-wise\n",
        "    distance = np.sqrt(np.sum((x - y) ** 2))\n",
        "\n",
        "    return distance\n"
      ],
      "metadata": {
        "id": "sga-G7fn2_7G"
      },
      "execution_count": null,
      "outputs": []
    },
    {
      "cell_type": "code",
      "source": [
        "\n",
        "class KNNClassifier:\n",
        "\n",
        "    def __init__(self, k):\n",
        "        # Initialize the number of neighbors\n",
        "        self.k = k\n",
        "\n",
        "    def fit(self, X, y):\n",
        "        # Store the training data and labels\n",
        "        self.X = X\n",
        "        self.y = y\n",
        "\n",
        "    def predict(self, X, return_neighbors=False):\n",
        "\n",
        "        # Predict the labels and Neighbors for new data\n",
        "        y_pred = []\n",
        "        Neighbors = []\n",
        "\n",
        "        for x in X:\n",
        "\n",
        "            # Compute the distances to all training points using the euclidean_distance function\n",
        "            distances = [euclidean_distance(x, x_train) for x_train in self.X]\n",
        "\n",
        "            # Find the k nearest neighbors and their labels\n",
        "            k_nearest_indices = np.argsort(distances)[:self.k]\n",
        "            neighbors = [self.X[i] for i in k_nearest_indices]\n",
        "            labels = [self.y[i] for i in k_nearest_indices]\n",
        "\n",
        "            # Find the most common label among the neighbors\n",
        "            mode = Counter(labels).most_common(1)[0][0]\n",
        "\n",
        "            # Append the prediction and the neighbors to the lists\n",
        "            y_pred.append(mode)\n",
        "            Neighbors.append(neighbors)\n",
        "\n",
        "        # Return the predictions and the neighbors\n",
        "        if return_neighbors:\n",
        "            return np.array(y_pred), np.array(Neighbors)\n",
        "        else:\n",
        "            return np.array(y_pred)\n"
      ],
      "metadata": {
        "id": "DhNbYQhzJ6RG"
      },
      "execution_count": null,
      "outputs": []
    },
    {
      "cell_type": "code",
      "source": [
        "def normalize(X, low=0, high=1):\n",
        "\n",
        "    X_min = np.min(X, axis=0)#axix 0 means array 1 dimension\n",
        "    X_max = np.max(X, axis=0)\n",
        "    X_norm = low + (X - X_min) * (high - low) / (X_max - X_min)\n",
        "    return X_norm\n"
      ],
      "metadata": {
        "id": "Kpx8PqvKJ9eX"
      },
      "execution_count": null,
      "outputs": []
    },
    {
      "cell_type": "code",
      "source": [
        "# Normalize the features\n",
        "X_data = original_data.drop(columns=['RiskLevel'])\n",
        "y=original_data['RiskLevel'].values\n",
        "X_norm=normalize(X_data,1,0)\n",
        "X_norm=X_norm.values\n",
        "print (X_norm[:5])\n",
        "print(y[:5])\n",
        "\n"
      ],
      "metadata": {
        "colab": {
          "base_uri": "https://localhost:8080/"
        },
        "id": "gRcaek_tJ__k",
        "outputId": "8ea70a48-cab9-4d48-b0e2-d1140b98bb50"
      },
      "execution_count": null,
      "outputs": [
        {
          "output_type": "stream",
          "name": "stdout",
          "text": [
            "[[0.75       0.33333333 0.39215686 0.30769231 1.         0.04819277]\n",
            " [0.58333333 0.22222222 0.19607843 0.46153846 1.         0.24096386]\n",
            " [0.68333333 0.77777778 0.58823529 0.84615385 0.6        0.12048193]\n",
            " [0.66666667 0.22222222 0.29411765 0.92307692 1.         0.24096386]\n",
            " [0.58333333 0.44444444 0.78431373 0.99230769 1.         0.1686747 ]]\n",
            "[0 0 0 0 1]\n"
          ]
        }
      ]
    },
    {
      "cell_type": "code",
      "source": [
        "\n",
        "# Applying random seed for reproducibility\n",
        "np.random.seed(42)\n",
        "\n",
        "# Shuffling indices\n",
        "indices = np.random.permutation(len(X_norm))\n",
        "\n",
        "# Splitting data into train and test sets\n",
        "split = int(len(X_norm) * 0.8)  # 80% train, 20% test\n",
        "\n",
        "# Selecting training data\n",
        "X_train = X_norm[indices[:split]]\n",
        "\n",
        "y_train = y[indices[:split]]\n",
        "\n",
        "# Selecting testing data\n",
        "X_test = X_norm[indices[split:]]\n",
        "y_test = y[indices[split:]]\n"
      ],
      "metadata": {
        "id": "e8Nx-MoKKXa4"
      },
      "execution_count": null,
      "outputs": []
    },
    {
      "cell_type": "code",
      "source": [
        "# Create and fit the KNN classifiers for different values of K\n",
        "store_k=[]\n",
        "for K in [1, 3, 5, 10]:\n",
        "    knn = KNNClassifier(k=K)  # Create the KNN classifier with the current value of K\n",
        "    knn.fit(X_train, y_train)  # Fit the classifier on the training data\n",
        "    # Optionally, you can print some information about the model\n",
        "    print(f\"KNN Classifier (K={K}) trained and fitted successfully.\")\n",
        "    store_k.append(knn)"
      ],
      "metadata": {
        "id": "7k9XhJjDKc9y",
        "colab": {
          "base_uri": "https://localhost:8080/"
        },
        "outputId": "9a8e5be8-c7d8-49da-d49e-c70453a72046"
      },
      "execution_count": null,
      "outputs": [
        {
          "output_type": "stream",
          "name": "stdout",
          "text": [
            "KNN Classifier (K=1) trained and fitted successfully.\n",
            "KNN Classifier (K=3) trained and fitted successfully.\n",
            "KNN Classifier (K=5) trained and fitted successfully.\n",
            "KNN Classifier (K=10) trained and fitted successfully.\n"
          ]
        }
      ]
    },
    {
      "cell_type": "code",
      "source": [
        "# Predict on the training set\n",
        "\n",
        "for knn in store_k:\n",
        " y_pred_train, train_neighbors = knn.predict(X_train, return_neighbors=True)\n",
        "\n",
        "# Compute accuracy\n",
        " accuracy_train = np.mean(y_pred_train == y_train)\n",
        "\n",
        "\n",
        " print(f'Accuracy: {accuracy_train}')\n"
      ],
      "metadata": {
        "id": "psJyTvjqKfdS",
        "colab": {
          "base_uri": "https://localhost:8080/"
        },
        "outputId": "b98288cb-d45f-48bd-b813-6290fe4f6134"
      },
      "execution_count": null,
      "outputs": [
        {
          "output_type": "stream",
          "name": "stdout",
          "text": [
            "Accuracy: 0.9099876695437731\n",
            "Accuracy: 0.8791615289765722\n",
            "Accuracy: 0.8175092478421702\n",
            "Accuracy: 0.781750924784217\n"
          ]
        }
      ]
    },
    {
      "cell_type": "code",
      "source": [
        "# Predict on the testing set\n",
        "for knn in store_k:\n",
        " test, train_neighbors = knn.predict(X_test, return_neighbors=True)\n",
        "\n",
        "# Compute accuracy\n",
        " accuracy_test = np.mean(test== y_test)\n",
        "\n",
        " print(f'Accuracy: {accuracy_train}')"
      ],
      "metadata": {
        "id": "nWnUVpGOKjzf",
        "colab": {
          "base_uri": "https://localhost:8080/"
        },
        "outputId": "71e04ace-e589-42d6-d9db-dd6621439eb8"
      },
      "execution_count": null,
      "outputs": [
        {
          "output_type": "stream",
          "name": "stdout",
          "text": [
            "Accuracy: 0.781750924784217\n",
            "Accuracy: 0.781750924784217\n",
            "Accuracy: 0.781750924784217\n",
            "Accuracy: 0.781750924784217\n"
          ]
        }
      ]
    },
    {
      "cell_type": "markdown",
      "source": [
        "#***2.5   Artificial Neural Networks***"
      ],
      "metadata": {
        "id": "6x8Z-YfGcBSY"
      }
    },
    {
      "cell_type": "markdown",
      "source": [
        "***Extracting features and target variable***"
      ],
      "metadata": {
        "id": "32KvtT2EihI6"
      }
    },
    {
      "cell_type": "code",
      "source": [
        "X = original_data.iloc[:, 0:-1].values\n",
        "X"
      ],
      "metadata": {
        "colab": {
          "base_uri": "https://localhost:8080/"
        },
        "id": "_62fDYoYilzA",
        "outputId": "bf31fac9-5dcd-48b0-ea2a-5fc9fe765ffc"
      },
      "execution_count": null,
      "outputs": [
        {
          "output_type": "execute_result",
          "data": {
            "text/plain": [
              "array([[ 25., 130.,  80.,  15.,  98.,  86.],\n",
              "       [ 35., 140.,  90.,  13.,  98.,  70.],\n",
              "       [ 29.,  90.,  70.,   8., 100.,  80.],\n",
              "       ...,\n",
              "       [ 35.,  85.,  60.,  19.,  98.,  86.],\n",
              "       [ 43., 120.,  90.,  18.,  98.,  70.],\n",
              "       [ 32., 120.,  65.,   6., 101.,  76.]])"
            ]
          },
          "metadata": {},
          "execution_count": 49
        }
      ]
    },
    {
      "cell_type": "code",
      "source": [
        "y = to_categorical(original_data['RiskLevel'], num_classes=3)\n",
        "y"
      ],
      "metadata": {
        "id": "AJih7k5Ymt3R",
        "colab": {
          "base_uri": "https://localhost:8080/"
        },
        "outputId": "9d11cd66-5399-4969-eada-c2e517e84d5e"
      },
      "execution_count": null,
      "outputs": [
        {
          "output_type": "execute_result",
          "data": {
            "text/plain": [
              "array([[1., 0., 0.],\n",
              "       [1., 0., 0.],\n",
              "       [1., 0., 0.],\n",
              "       ...,\n",
              "       [1., 0., 0.],\n",
              "       [1., 0., 0.],\n",
              "       [0., 0., 1.]], dtype=float32)"
            ]
          },
          "metadata": {},
          "execution_count": 50
        }
      ]
    },
    {
      "cell_type": "code",
      "source": [
        "# Split data into training, validation, and test sets\n",
        "X_train, X_temp, y_train, y_temp = train_test_split(X, y, test_size=0.3, random_state=42)\n",
        "X_val, X_test, y_val, y_test = train_test_split(X_temp, y_temp, test_size=0.5, random_state=42)\n",
        "print (\"X_train =\",X_train.shape, \" --- y_train = \", y_train.shape )\n",
        "print (\"X_val =\",X_val.shape, \" --- y_val = \", y_val.shape )\n",
        "print (\"X_test =\",X_test.shape, \" --- y_test = \", y_test.shape )"
      ],
      "metadata": {
        "colab": {
          "base_uri": "https://localhost:8080/"
        },
        "id": "pM4pfXrvek1X",
        "outputId": "ac7a991a-6b11-4c62-b4bf-1e148794f4e3"
      },
      "execution_count": null,
      "outputs": [
        {
          "output_type": "stream",
          "name": "stdout",
          "text": [
            "X_train = (709, 6)  --- y_train =  (709, 3)\n",
            "X_val = (152, 6)  --- y_val =  (152, 3)\n",
            "X_test = (153, 6)  --- y_test =  (153, 3)\n"
          ]
        }
      ]
    },
    {
      "cell_type": "markdown",
      "source": [
        "***Scaling the features***"
      ],
      "metadata": {
        "id": "pUIQ860vIMk8"
      }
    },
    {
      "cell_type": "code",
      "source": [
        "scaler = StandardScaler()"
      ],
      "metadata": {
        "id": "mN7hQBrIIKlE"
      },
      "execution_count": null,
      "outputs": []
    },
    {
      "cell_type": "code",
      "source": [
        "\n",
        "# Performing Feature Scaling using StandardScalar class from the sklearn library\n",
        "X_train = scaler.fit_transform(X_train)\n",
        "X_test = scaler.transform(X_test)\n",
        "\n",
        "# Ensure the data type is float64 after scaling (if not done automatically)\n",
        "X_train = np.array(X_train, dtype=np.float64)\n",
        "X_test = np.array(X_test, dtype=np.float64)\n"
      ],
      "metadata": {
        "id": "nf8n7k42Iy7I"
      },
      "execution_count": null,
      "outputs": []
    },
    {
      "cell_type": "code",
      "source": [
        "n_cols = X_train.shape[1]"
      ],
      "metadata": {
        "id": "2msCBiMfr8aT"
      },
      "execution_count": null,
      "outputs": []
    },
    {
      "cell_type": "markdown",
      "source": [
        "***Building the Model***"
      ],
      "metadata": {
        "id": "hTXkm42XotwH"
      }
    },
    {
      "cell_type": "code",
      "source": [
        "model = Sequential()"
      ],
      "metadata": {
        "id": "n9Tb4hXUfSwp"
      },
      "execution_count": null,
      "outputs": []
    },
    {
      "cell_type": "code",
      "source": [
        "# adding layers\n",
        "# standard layer type is called Dense Layer\n",
        "# all nodes of previous layer connect to the current layer\n",
        "from tensorflow.keras.layers import Dense, Dropout\n",
        "\n",
        "# First Hidden Layer\n",
        "model.add(Dense(100, activation='relu', input_shape=(n_cols,)))\n",
        "\n",
        "Dropout(0.2)\n",
        "\n",
        "# Second Hidden Layer\n",
        "model.add(Dense(100, activation='relu'))\n",
        "\n",
        "# Second Hidden Layer\n",
        "model.add(Dense(100, activation='relu'))\n",
        "\n",
        "\n",
        "# Output Layer\n",
        "model.add(Dense(3, activation='softmax'))"
      ],
      "metadata": {
        "id": "vDEXGH4jTz9L"
      },
      "execution_count": null,
      "outputs": []
    },
    {
      "cell_type": "markdown",
      "source": [
        "***Three Layers Network***"
      ],
      "metadata": {
        "id": "agcgAqtfo2b9"
      }
    },
    {
      "cell_type": "markdown",
      "source": [
        "#2. Compiling the Model"
      ],
      "metadata": {
        "id": "TqpzdqbvpJkP"
      }
    },
    {
      "cell_type": "code",
      "source": [
        "\n",
        "model.compile(\n",
        "    optimizer = 'adam', # the optimizer controls the learning rate or use sgd\n",
        "    loss = 'categorical_crossentropy',\n",
        "    metrics = ['accuracy']\n",
        ")"
      ],
      "metadata": {
        "id": "1FrJ2BJIpQXH"
      },
      "execution_count": null,
      "outputs": []
    },
    {
      "cell_type": "code",
      "source": [
        "# Define early_stopping_monitor\n",
        "early_stopping_monitor = early_stopping_monitor = EarlyStopping(patience = 2)"
      ],
      "metadata": {
        "id": "s4y9cQfRk7Nh"
      },
      "execution_count": null,
      "outputs": []
    },
    {
      "cell_type": "code",
      "source": [
        "# Fit the model\n",
        "model.fit(X_train, y_train, validation_data=(X_val, y_val), epochs = 20, callbacks = [early_stopping_monitor] )"
      ],
      "metadata": {
        "colab": {
          "base_uri": "https://localhost:8080/"
        },
        "id": "nNT4a9O1lAhQ",
        "outputId": "ab2ac286-bae6-43f0-f90c-bdedb2802235"
      },
      "execution_count": null,
      "outputs": [
        {
          "output_type": "stream",
          "name": "stdout",
          "text": [
            "Epoch 1/20\n",
            "23/23 [==============================] - 1s 13ms/step - loss: 0.9765 - accuracy: 0.5684 - val_loss: 42.0897 - val_accuracy: 0.2171\n",
            "Epoch 2/20\n",
            "23/23 [==============================] - 0s 3ms/step - loss: 0.7834 - accuracy: 0.6615 - val_loss: 102.4592 - val_accuracy: 0.2171\n",
            "Epoch 3/20\n",
            "23/23 [==============================] - 0s 4ms/step - loss: 0.7192 - accuracy: 0.6700 - val_loss: 132.5225 - val_accuracy: 0.2171\n"
          ]
        },
        {
          "output_type": "execute_result",
          "data": {
            "text/plain": [
              "<keras.src.callbacks.History at 0x7bb0791458d0>"
            ]
          },
          "metadata": {},
          "execution_count": 59
        }
      ]
    },
    {
      "cell_type": "code",
      "source": [
        "# Plotting the loss function\n",
        "plt.plot(history.history['loss'], label='Training Loss')\n",
        "plt.plot(history.history['val_loss'], label='Validation Loss')\n",
        "plt.title('Loss Function During Training')\n",
        "plt.xlabel('Epoch')\n",
        "plt.ylabel('Loss')\n",
        "plt.legend()\n",
        "plt.show()\n"
      ],
      "metadata": {
        "colab": {
          "base_uri": "https://localhost:8080/",
          "height": 211
        },
        "id": "Wu2ae6qUhgtU",
        "outputId": "7524b8c2-afd6-4338-84ca-6ed0c30d595f"
      },
      "execution_count": null,
      "outputs": [
        {
          "output_type": "error",
          "ename": "NameError",
          "evalue": "name 'history' is not defined",
          "traceback": [
            "\u001b[0;31m---------------------------------------------------------------------------\u001b[0m",
            "\u001b[0;31mNameError\u001b[0m                                 Traceback (most recent call last)",
            "\u001b[0;32m<ipython-input-63-98927d60ec8c>\u001b[0m in \u001b[0;36m<cell line: 2>\u001b[0;34m()\u001b[0m\n\u001b[1;32m      1\u001b[0m \u001b[0;31m# Plotting the loss function\u001b[0m\u001b[0;34m\u001b[0m\u001b[0;34m\u001b[0m\u001b[0m\n\u001b[0;32m----> 2\u001b[0;31m \u001b[0mplt\u001b[0m\u001b[0;34m.\u001b[0m\u001b[0mplot\u001b[0m\u001b[0;34m(\u001b[0m\u001b[0mhistory\u001b[0m\u001b[0;34m.\u001b[0m\u001b[0mhistory\u001b[0m\u001b[0;34m[\u001b[0m\u001b[0;34m'loss'\u001b[0m\u001b[0;34m]\u001b[0m\u001b[0;34m,\u001b[0m \u001b[0mlabel\u001b[0m\u001b[0;34m=\u001b[0m\u001b[0;34m'Training Loss'\u001b[0m\u001b[0;34m)\u001b[0m\u001b[0;34m\u001b[0m\u001b[0;34m\u001b[0m\u001b[0m\n\u001b[0m\u001b[1;32m      3\u001b[0m \u001b[0mplt\u001b[0m\u001b[0;34m.\u001b[0m\u001b[0mplot\u001b[0m\u001b[0;34m(\u001b[0m\u001b[0mhistory\u001b[0m\u001b[0;34m.\u001b[0m\u001b[0mhistory\u001b[0m\u001b[0;34m[\u001b[0m\u001b[0;34m'val_loss'\u001b[0m\u001b[0;34m]\u001b[0m\u001b[0;34m,\u001b[0m \u001b[0mlabel\u001b[0m\u001b[0;34m=\u001b[0m\u001b[0;34m'Validation Loss'\u001b[0m\u001b[0;34m)\u001b[0m\u001b[0;34m\u001b[0m\u001b[0;34m\u001b[0m\u001b[0m\n\u001b[1;32m      4\u001b[0m \u001b[0mplt\u001b[0m\u001b[0;34m.\u001b[0m\u001b[0mtitle\u001b[0m\u001b[0;34m(\u001b[0m\u001b[0;34m'Loss Function During Training'\u001b[0m\u001b[0;34m)\u001b[0m\u001b[0;34m\u001b[0m\u001b[0;34m\u001b[0m\u001b[0m\n\u001b[1;32m      5\u001b[0m \u001b[0mplt\u001b[0m\u001b[0;34m.\u001b[0m\u001b[0mxlabel\u001b[0m\u001b[0;34m(\u001b[0m\u001b[0;34m'Epoch'\u001b[0m\u001b[0;34m)\u001b[0m\u001b[0;34m\u001b[0m\u001b[0;34m\u001b[0m\u001b[0m\n",
            "\u001b[0;31mNameError\u001b[0m: name 'history' is not defined"
          ]
        }
      ]
    },
    {
      "cell_type": "code",
      "source": [
        "# Classification report for test set\n",
        "print(\"Classification Report - Test Set:\")\n",
        "print (classification_report(y_test, Y_pred))\n",
        "\n",
        "# Classification report for training set\n",
        "print(\"Classification Report - Training Set:\")\n",
        "#print(classification_report(Y_train, Y_pred_train))"
      ],
      "metadata": {
        "colab": {
          "base_uri": "https://localhost:8080/",
          "height": 228
        },
        "id": "Dkxj1Q0PhlPA",
        "outputId": "17dc4f85-bea4-4301-96cb-c1ed43f946bc"
      },
      "execution_count": null,
      "outputs": [
        {
          "output_type": "stream",
          "name": "stdout",
          "text": [
            "Classification Report - Test Set:\n"
          ]
        },
        {
          "output_type": "error",
          "ename": "NameError",
          "evalue": "name 'Y_pred' is not defined",
          "traceback": [
            "\u001b[0;31m---------------------------------------------------------------------------\u001b[0m",
            "\u001b[0;31mNameError\u001b[0m                                 Traceback (most recent call last)",
            "\u001b[0;32m<ipython-input-64-adc17bd234f9>\u001b[0m in \u001b[0;36m<cell line: 3>\u001b[0;34m()\u001b[0m\n\u001b[1;32m      1\u001b[0m \u001b[0;31m# Classification report for test set\u001b[0m\u001b[0;34m\u001b[0m\u001b[0;34m\u001b[0m\u001b[0m\n\u001b[1;32m      2\u001b[0m \u001b[0mprint\u001b[0m\u001b[0;34m(\u001b[0m\u001b[0;34m\"Classification Report - Test Set:\"\u001b[0m\u001b[0;34m)\u001b[0m\u001b[0;34m\u001b[0m\u001b[0;34m\u001b[0m\u001b[0m\n\u001b[0;32m----> 3\u001b[0;31m \u001b[0mprint\u001b[0m \u001b[0;34m(\u001b[0m\u001b[0mclassification_report\u001b[0m\u001b[0;34m(\u001b[0m\u001b[0my_test\u001b[0m\u001b[0;34m,\u001b[0m \u001b[0mY_pred\u001b[0m\u001b[0;34m)\u001b[0m\u001b[0;34m)\u001b[0m\u001b[0;34m\u001b[0m\u001b[0;34m\u001b[0m\u001b[0m\n\u001b[0m\u001b[1;32m      4\u001b[0m \u001b[0;34m\u001b[0m\u001b[0m\n\u001b[1;32m      5\u001b[0m \u001b[0;31m# Classification report for training set\u001b[0m\u001b[0;34m\u001b[0m\u001b[0;34m\u001b[0m\u001b[0m\n",
            "\u001b[0;31mNameError\u001b[0m: name 'Y_pred' is not defined"
          ]
        }
      ]
    },
    {
      "cell_type": "code",
      "source": [
        "# Verify that model contains information from compiling\n",
        "print(\"Loss function: \" + model.loss)"
      ],
      "metadata": {
        "id": "SGMIytcopY_j",
        "colab": {
          "base_uri": "https://localhost:8080/"
        },
        "outputId": "2d0beec6-bbe4-4d18-969b-16c9b50aca05"
      },
      "execution_count": null,
      "outputs": [
        {
          "output_type": "stream",
          "name": "stdout",
          "text": [
            "Loss function: categorical_crossentropy\n"
          ]
        }
      ]
    },
    {
      "cell_type": "code",
      "source": [
        "model.summary()"
      ],
      "metadata": {
        "id": "X4AKfaq4uySv",
        "colab": {
          "base_uri": "https://localhost:8080/"
        },
        "outputId": "b03db655-d923-45ee-df14-edd2c145b96f"
      },
      "execution_count": null,
      "outputs": [
        {
          "output_type": "stream",
          "name": "stdout",
          "text": [
            "Model: \"sequential\"\n",
            "_________________________________________________________________\n",
            " Layer (type)                Output Shape              Param #   \n",
            "=================================================================\n",
            " dense (Dense)               (None, 100)               700       \n",
            "                                                                 \n",
            " dense_1 (Dense)             (None, 100)               10100     \n",
            "                                                                 \n",
            " dense_2 (Dense)             (None, 100)               10100     \n",
            "                                                                 \n",
            " dense_3 (Dense)             (None, 3)                 303       \n",
            "                                                                 \n",
            "=================================================================\n",
            "Total params: 21203 (82.82 KB)\n",
            "Trainable params: 21203 (82.82 KB)\n",
            "Non-trainable params: 0 (0.00 Byte)\n",
            "_________________________________________________________________\n"
          ]
        }
      ]
    },
    {
      "cell_type": "code",
      "source": [
        "# Plotting loss and accuracy during training\n",
        "plt.figure(figsize=(10, 6))\n",
        "\n",
        "# Plot training loss\n",
        "plt.plot(history.history['loss'], label='Training Loss', color='blue', linestyle='-')\n",
        "\n",
        "# Plot validation loss\n",
        "plt.plot(history.history['val_loss'], label='Validation Loss', color='red', linestyle='--')\n",
        "\n",
        "# Plot training accuracy\n",
        "plt.plot(history.history['accuracy'], label='Training Accuracy', color='green', linestyle='-.')\n",
        "\n",
        "# Plot validation accuracy\n",
        "plt.plot(history.history['val_accuracy'], label='Validation Accuracy', color='orange', linestyle='--')\n",
        "\n",
        "plt.title('Loss and Accuracy During Training')\n",
        "plt.xlabel('Epoch')\n",
        "plt.ylabel('Loss / Accuracy')\n",
        "plt.legend()\n",
        "plt.grid(True)\n",
        "plt.show()"
      ],
      "metadata": {
        "colab": {
          "base_uri": "https://localhost:8080/",
          "height": 228
        },
        "id": "WgP4rQagiHFt",
        "outputId": "23e7e967-628f-4420-cd4c-b2a813fd3729"
      },
      "execution_count": null,
      "outputs": [
        {
          "output_type": "error",
          "ename": "NameError",
          "evalue": "name 'history' is not defined",
          "traceback": [
            "\u001b[0;31m---------------------------------------------------------------------------\u001b[0m",
            "\u001b[0;31mNameError\u001b[0m                                 Traceback (most recent call last)",
            "\u001b[0;32m<ipython-input-67-75cb65621f36>\u001b[0m in \u001b[0;36m<cell line: 5>\u001b[0;34m()\u001b[0m\n\u001b[1;32m      3\u001b[0m \u001b[0;34m\u001b[0m\u001b[0m\n\u001b[1;32m      4\u001b[0m \u001b[0;31m# Plot training loss\u001b[0m\u001b[0;34m\u001b[0m\u001b[0;34m\u001b[0m\u001b[0m\n\u001b[0;32m----> 5\u001b[0;31m \u001b[0mplt\u001b[0m\u001b[0;34m.\u001b[0m\u001b[0mplot\u001b[0m\u001b[0;34m(\u001b[0m\u001b[0mhistory\u001b[0m\u001b[0;34m.\u001b[0m\u001b[0mhistory\u001b[0m\u001b[0;34m[\u001b[0m\u001b[0;34m'loss'\u001b[0m\u001b[0;34m]\u001b[0m\u001b[0;34m,\u001b[0m \u001b[0mlabel\u001b[0m\u001b[0;34m=\u001b[0m\u001b[0;34m'Training Loss'\u001b[0m\u001b[0;34m,\u001b[0m \u001b[0mcolor\u001b[0m\u001b[0;34m=\u001b[0m\u001b[0;34m'blue'\u001b[0m\u001b[0;34m,\u001b[0m \u001b[0mlinestyle\u001b[0m\u001b[0;34m=\u001b[0m\u001b[0;34m'-'\u001b[0m\u001b[0;34m)\u001b[0m\u001b[0;34m\u001b[0m\u001b[0;34m\u001b[0m\u001b[0m\n\u001b[0m\u001b[1;32m      6\u001b[0m \u001b[0;34m\u001b[0m\u001b[0m\n\u001b[1;32m      7\u001b[0m \u001b[0;31m# Plot validation loss\u001b[0m\u001b[0;34m\u001b[0m\u001b[0;34m\u001b[0m\u001b[0m\n",
            "\u001b[0;31mNameError\u001b[0m: name 'history' is not defined"
          ]
        },
        {
          "output_type": "display_data",
          "data": {
            "text/plain": [
              "<Figure size 1000x600 with 0 Axes>"
            ]
          },
          "metadata": {}
        }
      ]
    },
    {
      "cell_type": "code",
      "source": [
        "# Convert data to predict to numpy array\n",
        "# Convert X_train from DataFrame to numpy array\n",
        "pred_data = np.array(X_train)\n",
        "\n",
        "\n"
      ],
      "metadata": {
        "id": "G-WiqIB-sJ9Y"
      },
      "execution_count": null,
      "outputs": []
    },
    {
      "cell_type": "code",
      "source": [
        "# Calculate predictions: predictions\n",
        "predictions = model.predict(pred_data)\n",
        "\n",
        "# Calculate predicted probability of survival: predicted_prob_true\n",
        "predicted_prob_true = predictions[:, 1]\n",
        "\n",
        "# Print predicted_prob_true\n",
        "print(predicted_prob_true)"
      ],
      "metadata": {
        "id": "Gk-WwUPn5BXg"
      },
      "execution_count": null,
      "outputs": []
    },
    {
      "cell_type": "code",
      "source": [
        "# Create list of learning rates: lr_to_test\n",
        "lr_to_test = [0.000001, 0.01, 1]"
      ],
      "metadata": {
        "id": "Grp0k5OqIDBd"
      },
      "execution_count": null,
      "outputs": []
    },
    {
      "cell_type": "code",
      "source": [
        "# Loop over learning rates\n",
        "for lr in lr_to_test:\n",
        "    print('\\n\\nTesting model with learning rate: %f\\n'%lr )\n",
        "\n",
        "    # Build new model to test, unaffected by previous models\n",
        "    model = get_new_model(n_cols)\n",
        "\n",
        "    # Create SGD optimizer with specified learning rate: my_optimizer\n",
        "    my_optimizer = SGD(lr = lr)\n",
        "\n",
        "    # Compile the model\n",
        "    model.compile(\n",
        "        optimizer = my_optimizer,\n",
        "        loss = 'categorical_crossentropy',\n",
        "        metrics = ['accuracy']\n",
        "    )\n",
        "\n"
      ],
      "metadata": {
        "id": "K6PjZ20fyck0"
      },
      "execution_count": null,
      "outputs": []
    },
    {
      "cell_type": "code",
      "source": [
        "# Define early_stopping_monitor\n",
        "early_stopping_monitor = early_stopping_monitor = EarlyStopping(patience = 2)"
      ],
      "metadata": {
        "id": "kQ2SabhP0mRR"
      },
      "execution_count": null,
      "outputs": []
    },
    {
      "cell_type": "code",
      "source": [
        "# Fit the model\n",
        "model.fit(predictors, target, validation_split = 0.3, epochs = 20, callbacks = [early_stopping_monitor] )"
      ],
      "metadata": {
        "id": "odaN7RiF30z-"
      },
      "execution_count": null,
      "outputs": []
    },
    {
      "cell_type": "code",
      "source": [
        "# Fit model_1\n",
        "model_1_training = model.fit(predictors, target, epochs=15, validation_split=0.2, callbacks=[early_stopping_monitor], verbose=False)"
      ],
      "metadata": {
        "id": "GvMM0Cm987cf"
      },
      "execution_count": null,
      "outputs": []
    },
    {
      "cell_type": "markdown",
      "source": [],
      "metadata": {
        "id": "L4Gi6nPp882g"
      }
    },
    {
      "cell_type": "code",
      "source": [
        "# Create the plot\n",
        "plt.plot(model_1_training.history['val_loss'], 'r')\n",
        "plt.xlabel('Epochs')\n",
        "plt.ylabel('Validation score')\n",
        "plt.show()"
      ],
      "metadata": {
        "id": "HyPHccph4HGg"
      },
      "execution_count": null,
      "outputs": []
    },
    {
      "cell_type": "code",
      "source": [],
      "metadata": {
        "id": "VGDfA_BX8sXM"
      },
      "execution_count": null,
      "outputs": []
    }
  ],
  "metadata": {
    "colab": {
      "provenance": []
    },
    "kernelspec": {
      "display_name": "Python 3",
      "name": "python3"
    },
    "language_info": {
      "name": "python"
    }
  },
  "nbformat": 4,
  "nbformat_minor": 0
}